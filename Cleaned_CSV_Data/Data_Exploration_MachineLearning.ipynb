{
 "cells": [
  {
   "cell_type": "code",
   "execution_count": null,
   "id": "1a621264",
   "metadata": {},
   "outputs": [],
   "source": [
    "# Add pandas as dependency\n",
    "\n",
    "import pandas as pd\n",
    "\n",
    "import os\n",
    "\n",
    "import matplotlib.pyplot as plt"
   ]
  },
  {
   "cell_type": "code",
   "execution_count": null,
   "id": "d2c62cb7",
   "metadata": {},
   "outputs": [],
   "source": [
    "# Files to load\n",
    "\n",
    "netflix_data_to_load = \"Resources/n_movies.csv\""
   ]
  },
  {
   "cell_type": "code",
   "execution_count": null,
   "id": "386c95d2",
   "metadata": {},
   "outputs": [],
   "source": [
    "# Read the data and store it in Pandas DataFrame\n",
    "\n",
    "netflix_data_df = pd.read_csv(netflix_data_to_load)\n",
    "\n",
    "netflix_data_df.head()"
   ]
  },
  {
   "cell_type": "code",
   "execution_count": null,
   "id": "0add367d",
   "metadata": {},
   "outputs": [],
   "source": [
    "# Determine if there is any missing values in the data\n",
    "\n",
    "netflix_data_df.count()"
   ]
  },
  {
   "cell_type": "code",
   "execution_count": null,
   "id": "5ac8ffb9",
   "metadata": {},
   "outputs": [],
   "source": [
    "# Determine if there is any missing values in data\n",
    "\n",
    "netflix_data_df.isnull()"
   ]
  },
  {
   "cell_type": "code",
   "execution_count": null,
   "id": "e6e85a6d",
   "metadata": {},
   "outputs": [],
   "source": [
    "# Determine if there is any missing values in data\n",
    "\n",
    "netflix_data_df.isnull().sum()"
   ]
  },
  {
   "cell_type": "code",
   "execution_count": null,
   "id": "a80f0382",
   "metadata": {},
   "outputs": [],
   "source": [
    "# Drop the NaNs\n",
    "\n",
    "netflix_data_df.dropna()"
   ]
  },
  {
   "cell_type": "code",
   "execution_count": null,
   "id": "def8d28c",
   "metadata": {},
   "outputs": [],
   "source": [
    "netflix_data_df.dropna().count()"
   ]
  },
  {
   "cell_type": "code",
   "execution_count": null,
   "id": "2dacdb28",
   "metadata": {},
   "outputs": [],
   "source": [
    "netflix_data_df\n",
    "\n",
    "# data limitation = votes are not clear on whether they are compiled from year released or votes per year. "
   ]
  },
  {
   "cell_type": "code",
   "execution_count": null,
   "id": "dda273aa",
   "metadata": {
    "scrolled": true
   },
   "outputs": [],
   "source": [
    "netflix_data_df = netflix_data_df[['title','year','certificate','duration','genre','rating','votes']]\n",
    "netflix_data_df.head()"
   ]
  },
  {
   "cell_type": "code",
   "execution_count": null,
   "id": "bba35793",
   "metadata": {},
   "outputs": [],
   "source": [
    "# checking datatype\n",
    "\n",
    "print(type(netflix_data_df.year[0]))"
   ]
  },
  {
   "cell_type": "code",
   "execution_count": null,
   "id": "0eb82f69",
   "metadata": {},
   "outputs": [],
   "source": [
    "# endswith pattern\n",
    "\n",
    "#print(netflix_data_df['year'].str.endswith('-'))\n",
    "\n",
    "netflix_data_df['year'] = netflix_data_df['year'].str.replace('(', '')\n",
    "\n",
    "netflix_data_df\n",
    "\n",
    "\n",
    "#netflix_year_shorten = netflix_data_df['year'].slice[:5]\n",
    "\n",
    "#netflix_year_shorten\n",
    "\n",
    "#netflix_data_df"
   ]
  },
  {
   "cell_type": "code",
   "execution_count": null,
   "id": "2ece3797",
   "metadata": {},
   "outputs": [],
   "source": [
    "netflix_data_df['year'] = netflix_data_df['year'].str.replace(')', '')\n",
    "\n",
    "netflix_data_df.head()"
   ]
  },
  {
   "cell_type": "code",
   "execution_count": null,
   "id": "f12d1fe1",
   "metadata": {
    "scrolled": false
   },
   "outputs": [],
   "source": [
    "netflix_data_df['year released'] = netflix_data_df['year'].str[0:4]\n",
    "\n",
    "netflix_data_df['year released']"
   ]
  },
  {
   "cell_type": "code",
   "execution_count": null,
   "id": "2cfa1c82",
   "metadata": {
    "scrolled": false
   },
   "outputs": [],
   "source": [
    "netflix_data_df = netflix_data_df[['title', 'year released', 'certificate', 'duration', 'genre', 'rating', 'votes']]\n",
    "\n",
    "netflix_data_df.head()"
   ]
  },
  {
   "cell_type": "code",
   "execution_count": null,
   "id": "4cdd511a",
   "metadata": {
    "scrolled": true
   },
   "outputs": [],
   "source": [
    "netflix_data_df.isna().sum()"
   ]
  },
  {
   "cell_type": "code",
   "execution_count": null,
   "id": "188131b3",
   "metadata": {
    "scrolled": true
   },
   "outputs": [],
   "source": [
    "netflix_data_df_drop = netflix_data_df.dropna()\n",
    "\n",
    "netflix_data_df_drop"
   ]
  },
  {
   "cell_type": "code",
   "execution_count": null,
   "id": "2c2879cd",
   "metadata": {},
   "outputs": [],
   "source": [
    "netflix_data_df_sort = netflix_data_df_drop.sort_values(by = ['year released'])\n",
    "\n",
    "netflix_data_df_sort"
   ]
  },
  {
   "cell_type": "code",
   "execution_count": null,
   "id": "3da7e429",
   "metadata": {},
   "outputs": [],
   "source": [
    "netflix_data_df_sort.reset_index()"
   ]
  },
  {
   "cell_type": "code",
   "execution_count": null,
   "id": "47354ab0",
   "metadata": {},
   "outputs": [],
   "source": [
    "netflix_data_df_sort.drop(netflix_data_df_sort.tail(243).index,\n",
    "                                                inplace = True)"
   ]
  },
  {
   "cell_type": "code",
   "execution_count": null,
   "id": "9503672b",
   "metadata": {},
   "outputs": [],
   "source": [
    "netflix_data_df_sort"
   ]
  },
  {
   "cell_type": "code",
   "execution_count": null,
   "id": "4f320664",
   "metadata": {},
   "outputs": [],
   "source": [
    "netflix_data_df_sort['year released'] = netflix_data_df_sort['year released'].astype('int')"
   ]
  },
  {
   "cell_type": "code",
   "execution_count": null,
   "id": "1418e775",
   "metadata": {},
   "outputs": [],
   "source": []
  },
  {
   "cell_type": "code",
   "execution_count": null,
   "id": "65775eb1",
   "metadata": {},
   "outputs": [],
   "source": [
    "new_netflix_df = netflix_data_df_sort.loc[netflix_data_df_sort['year released']>2011]\n",
    "new_netflix_df = new_netflix_df.groupby(['year released'])['rating'].mean()\n",
    "\n",
    "\n",
    "new_netflix_df.plot(kind = 'bar')"
   ]
  },
  {
   "cell_type": "code",
   "execution_count": null,
   "id": "bb515f20",
   "metadata": {},
   "outputs": [],
   "source": [
    "top_10_movies = netflix_data_df_sort.sort_values(\"rating\", ascending = False).head(10)\n",
    "\n",
    "top_10_movies"
   ]
  },
  {
   "cell_type": "code",
   "execution_count": null,
   "id": "1a6f4e62",
   "metadata": {},
   "outputs": [],
   "source": [
    "plt.figure(figsize = (8, 8))\n",
    "\n",
    "plt.barh(top_10_movies[\"title\"], top_10_movies[\"rating\"], color = \"cornflowerblue\")"
   ]
  },
  {
   "cell_type": "code",
   "execution_count": null,
   "id": "4afcd477",
   "metadata": {},
   "outputs": [],
   "source": [
    "netflix_data_df_sort['rating category'] = pd.cut(x = netflix_data_df_sort['rating'],\n",
    "                                          bins = [1, 4, 7, 10],\n",
    "                                          labels = ['Bad', 'Good', 'Excellent'])\n",
    "netflix_data_df_sort"
   ]
  },
  {
   "cell_type": "code",
   "execution_count": null,
   "id": "b2bebbea",
   "metadata": {},
   "outputs": [],
   "source": [
    "netflix_data_df_sort.drop('title', axis = 1, inplace = True)"
   ]
  },
  {
   "cell_type": "code",
   "execution_count": null,
   "id": "505fc2f6",
   "metadata": {},
   "outputs": [],
   "source": [
    "from sklearn.preprocessing import LabelEncoder\n",
    "le = LabelEncoder()\n",
    "X = le.fit"
   ]
  },
  {
   "cell_type": "code",
   "execution_count": null,
   "id": "435f073f",
   "metadata": {},
   "outputs": [],
   "source": [
    "X = netflix_data_df_sort.drop(['rating', 'rating category'], axis = 1).values\n",
    "y = netflix_data_df_sort['rating category'].values"
   ]
  },
  {
   "cell_type": "code",
   "execution_count": null,
   "id": "363b262b",
   "metadata": {},
   "outputs": [],
   "source": [
    "# split the dataset\n",
    "from sklearn.model_selection import train_test_split\n",
    "X_train, X_test, y_train, y_test = train_test_split(X, y)"
   ]
  },
  {
   "cell_type": "code",
   "execution_count": null,
   "id": "3946dc2e",
   "metadata": {},
   "outputs": [],
   "source": [
    "from sklearn.linear_model import LogisticRegression\n",
    "lr = LogisticRegression()\n",
    "lr.fit(X_train, y_train)"
   ]
  },
  {
   "cell_type": "code",
   "execution_count": null,
   "id": "703ef749",
   "metadata": {},
   "outputs": [],
   "source": []
  }
 ],
 "metadata": {
  "kernelspec": {
   "display_name": "PythonData",
   "language": "python",
   "name": "pythondata"
  },
  "language_info": {
   "codemirror_mode": {
    "name": "ipython",
    "version": 3
   },
   "file_extension": ".py",
   "mimetype": "text/x-python",
   "name": "python",
   "nbconvert_exporter": "python",
   "pygments_lexer": "ipython3",
   "version": "3.9.12"
  }
 },
 "nbformat": 4,
 "nbformat_minor": 5
}
